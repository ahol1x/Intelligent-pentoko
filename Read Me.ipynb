{
 "cells": [
  {
   "cell_type": "markdown",
   "source": [
    "The primary purpose of our program is to create a game of five-in-a-row chess that provides individuals one more choice of relaxing to play chess with computer, so that they could have fun even if they do not have a partner. This will be achieved through the use of computer auto move."
   ],
   "metadata": {
    "collapsed": false
   }
  },
  {
   "cell_type": "markdown",
   "source": [
    "Our program's functionality includes the ability to detect a player's move on the chessboard and respond with a computer move to determine the game's progress if one of the player has achieved the winning criterion of victory, five in a row. Additionally, our program enables users to change game modes and players, providing a versatile and engaging chess experience."
   ],
   "metadata": {
    "collapsed": false
   }
  },
  {
   "cell_type": "markdown",
   "source": [
    "Our program takes user input through left-clicks on various buttons and coordinates of the chessboard interface we have created. The program's output includes the chess piece`s image displayed upon clicking, a win or lose message, mode changes initiated through mode selection buttons, and the game's restart or end through dedicated buttons."
   ],
   "metadata": {
    "collapsed": false
   }
  },
  {
   "cell_type": "code",
   "execution_count": 1,
   "outputs": [],
   "source": [
    "    def __init__(self, keyList):\n",
    "        # Self.board is the 2d list that is used to store the state of the game.\n",
    "        # It is being initialized as a boardSize x boarSize 2d list with zeros as initial values.\n",
    "        self.board = [[0 for i in range(boardSize)] for j in range(boardSize)]\n",
    "        # It stores the parameter keyList to self.keyList. keyList is a list that contains [1,2].\n",
    "        # 1 represent the key that player 1 has, and 2 represents the key that player 2 has. You can think of 1 and 2 as\n",
    "        # X and O in tic-tac-toe\n",
    "        self.keyList = keyList\n",
    "        # Initialize winner as none\n",
    "        self.winner = None"
   ],
   "metadata": {
    "collapsed": false
   }
  },
  {
   "cell_type": "code",
   "execution_count": 2,
   "outputs": [],
   "source": [
    "    def place_key(self, x, y, key):\n",
    "        # A setter method that changes board[x][y] to key(1 or 2)\n",
    "        # For example when player makes the move at the center of a 9x9 board, it will pass in parameters 4 as x, 4 as y and 1 as key.\n",
    "        # Then self.board[4][4] will become 1.\n",
    "        self.board[x][y] = key"
   ],
   "metadata": {
    "collapsed": false
   }
  },
  {
   "cell_type": "markdown",
   "source": [
    "self.board"
   ],
   "metadata": {
    "collapsed": false
   }
  },
  {
   "cell_type": "markdown",
   "source": [
    "The data contained in the 2D list was used to store and represent the status of the full chessboard of all coordinates, using 0,1,2, which represent empty, black chess and white chess respectively. This list will then be updated when any time a computer or human player has entered a new chess on the chessboard."
   ],
   "metadata": {
    "collapsed": false
   }
  },
  {
   "cell_type": "markdown",
   "source": [
    "Using a two-dimensional list to store the status of the given chessboard coordinate provides a more convenient way to access each point and allows for the determination of the game's status in one loop. Otherwise, the status of each coordinate would be written in a separate list, making it difficult to iterate through and determine the winner. Additionally, using a list allows for mapping of the mouse's x and y coordinates to the corresponding element in the list, making it easier to change the board's state when placing a piece. This feature also facilitates the process of checking for five in a row horizontally, vertically, or diagonally. Therefore, using a list simplifies the game's implementation and ease the overall difficulty by using different variables, which would make the list self-adapt to different board size for future modification."
   ],
   "metadata": {
    "collapsed": false
   }
  },
  {
   "cell_type": "code",
   "execution_count": 3,
   "outputs": [
    {
     "ename": "IndentationError",
     "evalue": "unexpected indent (1039225371.py, line 3)",
     "output_type": "error",
     "traceback": [
      "\u001B[0;36m  Cell \u001B[0;32mIn[3], line 3\u001B[0;36m\u001B[0m\n\u001B[0;31m    def check_status(self, state):\u001B[0m\n\u001B[0m    ^\u001B[0m\n\u001B[0;31mIndentationError\u001B[0m\u001B[0;31m:\u001B[0m unexpected indent\n"
     ]
    }
   ],
   "source": [
    " # A method that checks whether the state reached endgame.\n",
    "    # Return the player key if it wins, return -1 if draws, and return 0 if not at endgame\n",
    "    def check_status(self, state):\n",
    "        state = arr = np.array(state, dtype = int)\n",
    "        # Appends all dimensions of the board into checkList.\n",
    "        checkList = []\n",
    "        # A boolean representing draw or not\n",
    "\n",
    "        if len(self.get_empty(state)) == 0:\n",
    "            # Return -1 if draws\n",
    "            return -1\n",
    "\n",
    "        # Diags only contributes to endgame if the length of it is larger than 5, therefore i begins from where len(diags) is 5,\n",
    "        # And ends at len(diags) is 5. diags less than 5 are not considered the considered amount of diags would be same as\n",
    "        # The boardSize, which another loop variable index starts at 0 and +=1 each time would get all rows and columns\n",
    "\n",
    "        # A loop variable used to represent index of rows and columns\n",
    "        index = 0\n",
    "\n",
    "        for i in range(-boardSize + winCount, winCount):\n",
    "            # append rows\n",
    "            # The state[i :] means the ith row's elements of the board.\n",
    "            # For example, state[0 :] is a 1d list representing the first row of the board.\n",
    "            checkList.append(state[i, :].tolist())\n",
    "            # The state[: i] means the ith row's elements of the board.\n",
    "            # For example, state[: 0] is a 1d list representing the first column of the board.\n",
    "            # Append columns\n",
    "            checkList.append(state[:, i].tolist())\n",
    "            # Updates the loop variable\n",
    "            index += 1\n",
    "\n",
    "            # Append diags\n",
    "            checkList.append(state.diagonal(i).tolist())\n",
    "            # Append the other side diags\n",
    "            checkList.append(state[::-1].diagonal(i).tolist())\n",
    "\n",
    "        # Aata type int to string\n",
    "        checkList = [''.join(np.char.mod('%d', checkList[i])) for i in range(len(checkList))]\n",
    "\n",
    "        # Iterate through checkList to check if 5 1s or 2s are connected\n",
    "        for i in range(len(checkList)):\n",
    "            if str(self.keyList[0]) * winCount in checkList[i]:\n",
    "                # Print the winner for debugging\n",
    "                print('human player win')\n",
    "                # Return 1 representing p1 wins\n",
    "                return self.keyList[0]\n",
    "\n",
    "            elif str(self.keyList[1]) * winCount in checkList[i]:\n",
    "                # Print the winner for debugging\n",
    "                print('ai player win')\n",
    "                # Return 2 representing p2 wins\n",
    "                return self.keyList[1]\n",
    "\n",
    "        # Return 0 if game should continue\n",
    "        return 0"
   ],
   "metadata": {
    "collapsed": false
   }
  },
  {
   "cell_type": "code",
   "execution_count": null,
   "outputs": [],
   "source": [
    "while active == 0:\n",
    "    if players[currentPlayer].move():\n",
    "        currentPlayer = abs(currentPlayer - 1)\n",
    "\n",
    "    active = myBoard.check_status(myBoard.get_board())\n",
    "    tv.update_idletasks()\n",
    "    tv.update()"
   ],
   "metadata": {
    "collapsed": false
   }
  },
  {
   "cell_type": "markdown",
   "source": [
    "This check_status(self,state) procedure will receive a parameter of chessboard list containing integers of each points on the chessboard represented by 0,1,2 as empty, white, black, respectively, called 'state'. It then determines if the game ends or draws or continues and return different values for those different states. This procedure contributes to the game by detecting whether the game is ending or continue."
   ],
   "metadata": {
    "collapsed": false
   }
  },
  {
   "cell_type": "markdown",
   "source": [
    "This code defines a method named `check_status` that takes in a two-dimensional list `state` representing the current state of a five-in-a-row game. The method first initializes an empty list `checkList` and determines whether the game is over by checking if there are any empty spaces left on the board. Then, it uses a loop to iterate over all possible winning combinations, including rows, columns, and diagonals. The method appends these winning combinations to `checkList`. The winning combinations are then converted to strings using a list comprehension. Finally, the method checks if either player has won the game by searching for a substring of consecutive identical symbols (`X` or `O`, represented by `self.keyList[0]` and `self.keyList[1]`, respectively) of length `winCount` in each string in `checkList`. If a winning combination is found, the method prints the winner and the winning line, and returns the winner's symbol. If no winner is found but the board is full, the method returns `-1`. Otherwise, it returns `0`."
   ],
   "metadata": {
    "collapsed": false
   }
  },
  {
   "cell_type": "markdown",
   "source": [
    "The first call to the procedure will be user clicking on the chessboard and made a change of the chessboard from an empty chessboard, and the 'state' value of the board, integer board list of [[2 2 2 2 2 0 0 0 1]，\n",
    "                                    [0 0 0 0 1 0 0 0 0]，\n",
    "                                    [0 0 0 0 0 0 0 0 0]，\n",
    "                                    [0 0 0 0 0 0 0 0 0]，\n",
    "                                    [1 0 0 0 1 0 0 0 0]，\n",
    "                                    [0 0 0 0 0 0 0 0 0]，\n",
    "                                    [0 0 0 0 0 0 0 0 0]，\n",
    "                                    [0 0 0 0 0 0 0 0 0]，\n",
    "                                    [1 0 0 0 2 0 2 1 1]]will be transferred in to this procedure."
   ],
   "metadata": {
    "collapsed": false
   }
  },
  {
   "cell_type": "markdown",
   "source": [
    "The second call to the procedure will be the computer player placing the last chess at the last possible place on the chess board, and the status of the board in 'state' \"[ [1,2,1,2,2,2,1,2,1],\n",
    "                [2,2,1,2,1,2,1,2,1],\n",
    "                [1,1,2,2,1,2,1,1,2],\n",
    "                [1,2,1,1,2,1,2,1,1],\n",
    "                [1,2,1,2,1,2,1,2,1],\n",
    "                [2,2,2,1,1,2,1,2,1],\n",
    "                [1,1,1,2,1,2,1,2,2],\n",
    "                [2,2,2,1,2,1,1,1,1],\n",
    "                [1,2,1,2,2,1,2,2,2] ] will be transferred in to this procedure."
   ],
   "metadata": {
    "collapsed": false
   }
  },
  {
   "cell_type": "markdown",
   "source": [
    "The first call to the procedure will first test if the chessboard is full, which in this case is not full. Then it will test if the human player has won the game by adding the human player`s chess list to it, and in this case human player is not winning. Then this procedure will test if the computer has won by adding the computer list to check with the 'checklist[]', and in this case it is winning."
   ],
   "metadata": {
    "collapsed": false
   }
  },
  {
   "cell_type": "markdown",
   "source": [
    "The second call to the procedure will only test if the chessboard is full, in this case it is winning the game."
   ],
   "metadata": {
    "collapsed": false
   }
  },
  {
   "cell_type": "markdown",
   "source": [
    "The result of the first call to the procedure will be returning the dialogue of 'ai player win', and stop the program by returning the list of computer player`s chess."
   ],
   "metadata": {
    "collapsed": false
   }
  },
  {
   "cell_type": "markdown",
   "source": [
    "The result of the second call to the procedure will be returning -1 to the overall function of the game, and the game will stop because it is being considered a draw to the game."
   ],
   "metadata": {
    "collapsed": false
   }
  }
 ],
 "metadata": {
  "kernelspec": {
   "display_name": "Python 3",
   "language": "python",
   "name": "python3"
  },
  "language_info": {
   "codemirror_mode": {
    "name": "ipython",
    "version": 2
   },
   "file_extension": ".py",
   "mimetype": "text/x-python",
   "name": "python",
   "nbconvert_exporter": "python",
   "pygments_lexer": "ipython2",
   "version": "2.7.6"
  }
 },
 "nbformat": 4,
 "nbformat_minor": 0
}
